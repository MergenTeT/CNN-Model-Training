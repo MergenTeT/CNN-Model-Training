{
  "nbformat": 4,
  "nbformat_minor": 0,
  "metadata": {
    "colab": {
      "provenance": [],
      "authorship_tag": "ABX9TyNvm7KOgxzusGlLYTuml7j6",
      "include_colab_link": true
    },
    "kernelspec": {
      "name": "python3",
      "display_name": "Python 3"
    },
    "language_info": {
      "name": "python"
    },
    "accelerator": "TPU",
    "gpuClass": "standard"
  },
  "cells": [
    {
      "cell_type": "markdown",
      "metadata": {
        "id": "view-in-github",
        "colab_type": "text"
      },
      "source": [
        "<a href=\"https://colab.research.google.com/github/MergenTeT/CNN-Model-Training/blob/main/fashionMNIST.ipynb\" target=\"_parent\"><img src=\"https://colab.research.google.com/assets/colab-badge.svg\" alt=\"Open In Colab\"/></a>"
      ]
    },
    {
      "cell_type": "code",
      "execution_count": 21,
      "metadata": {
        "id": "TxcaFi1GycD8"
      },
      "outputs": [],
      "source": [
        "from keras.datasets import fashion_mnist\n",
        "from sklearn.model_selection import train_test_split\n",
        "(x_train, y_train), (x_test, y_test) = fashion_mnist.load_data()\n",
        "x_train,x_validation,y_train,y_validation = train_test_split(x_train,y_train)"
      ]
    },
    {
      "cell_type": "code",
      "source": [
        "x_train.shape,y_train.shape,x_test.shape,y_test.shape,x_validation.shape,y_validation.shape\n"
      ],
      "metadata": {
        "colab": {
          "base_uri": "https://localhost:8080/"
        },
        "id": "48T8JC3ry9Zi",
        "outputId": "005ac4d5-2c2d-4e5f-80e9-f3be866209bf"
      },
      "execution_count": 22,
      "outputs": [
        {
          "output_type": "execute_result",
          "data": {
            "text/plain": [
              "((45000, 28, 28),\n",
              " (45000,),\n",
              " (10000, 28, 28),\n",
              " (10000,),\n",
              " (15000, 28, 28),\n",
              " (15000,))"
            ]
          },
          "metadata": {},
          "execution_count": 22
        }
      ]
    },
    {
      "cell_type": "code",
      "source": [
        "from keras.utils.np_utils import to_categorical\n",
        "import numpy as np\n"
      ],
      "metadata": {
        "id": "OZd1PAaVyzPp"
      },
      "execution_count": 23,
      "outputs": []
    },
    {
      "cell_type": "code",
      "source": [
        "x_train = x_train.reshape([-1,28,28,1])\n",
        "x_train = x_train.astype('float32')/255\n",
        "x_test = x_test.reshape([-1,28,28,1])\n",
        "x_test = x_test.astype('float32')/255\n",
        "x_validation = x_validation.reshape([-1,28,28,1])\n",
        "x_validation = x_validation.astype('float32')/255\n",
        "y_train = to_categorical(y_train)\n",
        "y_test = to_categorical(y_test)\n",
        "y_validation = to_categorical(y_validation)"
      ],
      "metadata": {
        "id": "WaHuxauizjog"
      },
      "execution_count": 24,
      "outputs": []
    },
    {
      "cell_type": "code",
      "source": [
        "x_train.shape,y_train.shape,x_test.shape,y_test.shape,x_validation.shape,y_validation.shape"
      ],
      "metadata": {
        "colab": {
          "base_uri": "https://localhost:8080/"
        },
        "id": "TJJbITYG0OFf",
        "outputId": "561157e0-f8cf-4957-a325-9f15fefbdfe4"
      },
      "execution_count": 25,
      "outputs": [
        {
          "output_type": "execute_result",
          "data": {
            "text/plain": [
              "((45000, 28, 28, 1),\n",
              " (45000, 10),\n",
              " (10000, 28, 28, 1),\n",
              " (10000, 10),\n",
              " (15000, 28, 28, 1),\n",
              " (15000, 10))"
            ]
          },
          "metadata": {},
          "execution_count": 25
        }
      ]
    },
    {
      "cell_type": "code",
      "source": [
        "from keras import layers,models"
      ],
      "metadata": {
        "id": "E0rAucwD0jzs"
      },
      "execution_count": 26,
      "outputs": []
    },
    {
      "cell_type": "code",
      "source": [
        "model = models.Sequential()\n",
        "model.add(layers.Conv2D(32,(3,3),activation = 'relu',input_shape = (28,28,1)))\n",
        "model.add(layers.MaxPooling2D(pool_size=(2,2)))\n",
        "model.add(layers.Dropout(0.2))\n",
        "\n",
        "model.add(layers.Conv2D(64,(3,3),activation = 'relu'))\n",
        "model.add(layers.MaxPooling2D(pool_size=(2,2)))\n",
        "model.add(layers.Dropout(0.2))\n",
        "\n",
        "model.add(layers.Conv2D(128,(3,3),activation = 'relu',input_shape = (28,28,1)))\n",
        "model.add(layers.MaxPooling2D(pool_size=(2,2)))\n",
        "model.add(layers.Dropout(0.2))\n",
        "\n",
        "model.add(layers.Flatten())\n",
        "model.add(layers.Dense(64,activation = 'relu'))\n",
        "model.add(layers.Dropout(0.5))\n",
        "model.add(layers.Dense(10,activation = 'softmax'))"
      ],
      "metadata": {
        "id": "cXHYY5Ut0qgY"
      },
      "execution_count": 27,
      "outputs": []
    },
    {
      "cell_type": "code",
      "source": [
        "model.summary()"
      ],
      "metadata": {
        "colab": {
          "base_uri": "https://localhost:8080/"
        },
        "id": "Wmg4Kta33Kid",
        "outputId": "200a39ea-955b-43e8-ba54-4fe2e353c75d"
      },
      "execution_count": 28,
      "outputs": [
        {
          "output_type": "stream",
          "name": "stdout",
          "text": [
            "Model: \"sequential_2\"\n",
            "_________________________________________________________________\n",
            " Layer (type)                Output Shape              Param #   \n",
            "=================================================================\n",
            " conv2d_5 (Conv2D)           (None, 26, 26, 32)        320       \n",
            "                                                                 \n",
            " max_pooling2d_5 (MaxPooling  (None, 13, 13, 32)       0         \n",
            " 2D)                                                             \n",
            "                                                                 \n",
            " dropout_5 (Dropout)         (None, 13, 13, 32)        0         \n",
            "                                                                 \n",
            " conv2d_6 (Conv2D)           (None, 11, 11, 64)        18496     \n",
            "                                                                 \n",
            " max_pooling2d_6 (MaxPooling  (None, 5, 5, 64)         0         \n",
            " 2D)                                                             \n",
            "                                                                 \n",
            " dropout_6 (Dropout)         (None, 5, 5, 64)          0         \n",
            "                                                                 \n",
            " conv2d_7 (Conv2D)           (None, 3, 3, 128)         73856     \n",
            "                                                                 \n",
            " max_pooling2d_7 (MaxPooling  (None, 1, 1, 128)        0         \n",
            " 2D)                                                             \n",
            "                                                                 \n",
            " dropout_7 (Dropout)         (None, 1, 1, 128)         0         \n",
            "                                                                 \n",
            " flatten_2 (Flatten)         (None, 128)               0         \n",
            "                                                                 \n",
            " dense_4 (Dense)             (None, 64)                8256      \n",
            "                                                                 \n",
            " dropout_8 (Dropout)         (None, 64)                0         \n",
            "                                                                 \n",
            " dense_5 (Dense)             (None, 10)                650       \n",
            "                                                                 \n",
            "=================================================================\n",
            "Total params: 101,578\n",
            "Trainable params: 101,578\n",
            "Non-trainable params: 0\n",
            "_________________________________________________________________\n"
          ]
        }
      ]
    },
    {
      "cell_type": "code",
      "source": [
        "import keras\n",
        "opt = keras.optimizers.Adam(learning_rate=0.01)\n",
        "model.compile(loss ='categorical_crossentropy', optimizer=opt,metrics =['accuracy'])"
      ],
      "metadata": {
        "id": "icc6i8eQ34_2"
      },
      "execution_count": 35,
      "outputs": []
    },
    {
      "cell_type": "code",
      "source": [
        "history = model.fit(x_train,y_train,epochs = 20,batch_size = 256,validation_data = (x_validation,y_validation))"
      ],
      "metadata": {
        "colab": {
          "base_uri": "https://localhost:8080/"
        },
        "id": "QeLXK3GO5bV0",
        "outputId": "d1af6e08-4638-49e6-9bad-0ad8a76ff032"
      },
      "execution_count": 36,
      "outputs": [
        {
          "output_type": "stream",
          "name": "stdout",
          "text": [
            "Epoch 1/20\n",
            "176/176 [==============================] - 54s 300ms/step - loss: 0.9105 - accuracy: 0.6569 - val_loss: 0.5600 - val_accuracy: 0.7863\n",
            "Epoch 2/20\n",
            "176/176 [==============================] - 52s 296ms/step - loss: 0.6311 - accuracy: 0.7694 - val_loss: 0.4791 - val_accuracy: 0.8277\n",
            "Epoch 3/20\n",
            "176/176 [==============================] - 51s 288ms/step - loss: 0.5752 - accuracy: 0.7896 - val_loss: 0.4491 - val_accuracy: 0.8395\n",
            "Epoch 4/20\n",
            "176/176 [==============================] - 49s 278ms/step - loss: 0.5506 - accuracy: 0.8035 - val_loss: 0.4340 - val_accuracy: 0.8305\n",
            "Epoch 5/20\n",
            "176/176 [==============================] - 50s 285ms/step - loss: 0.5354 - accuracy: 0.8083 - val_loss: 0.4214 - val_accuracy: 0.8389\n",
            "Epoch 6/20\n",
            "176/176 [==============================] - 50s 282ms/step - loss: 0.5189 - accuracy: 0.8140 - val_loss: 0.4005 - val_accuracy: 0.8475\n",
            "Epoch 7/20\n",
            "176/176 [==============================] - 50s 284ms/step - loss: 0.5072 - accuracy: 0.8176 - val_loss: 0.3976 - val_accuracy: 0.8505\n",
            "Epoch 8/20\n",
            "176/176 [==============================] - 50s 284ms/step - loss: 0.5023 - accuracy: 0.8205 - val_loss: 0.4153 - val_accuracy: 0.8395\n",
            "Epoch 9/20\n",
            "176/176 [==============================] - 50s 285ms/step - loss: 0.4986 - accuracy: 0.8200 - val_loss: 0.3856 - val_accuracy: 0.8540\n",
            "Epoch 10/20\n",
            "176/176 [==============================] - 48s 274ms/step - loss: 0.4895 - accuracy: 0.8226 - val_loss: 0.3914 - val_accuracy: 0.8552\n",
            "Epoch 11/20\n",
            "176/176 [==============================] - 49s 280ms/step - loss: 0.4890 - accuracy: 0.8235 - val_loss: 0.3875 - val_accuracy: 0.8535\n",
            "Epoch 12/20\n",
            "176/176 [==============================] - 51s 287ms/step - loss: 0.4836 - accuracy: 0.8245 - val_loss: 0.3698 - val_accuracy: 0.8583\n",
            "Epoch 13/20\n",
            "176/176 [==============================] - 49s 281ms/step - loss: 0.4794 - accuracy: 0.8260 - val_loss: 0.3782 - val_accuracy: 0.8586\n",
            "Epoch 14/20\n",
            "176/176 [==============================] - 50s 285ms/step - loss: 0.4847 - accuracy: 0.8260 - val_loss: 0.3659 - val_accuracy: 0.8611\n",
            "Epoch 15/20\n",
            "176/176 [==============================] - 51s 288ms/step - loss: 0.4806 - accuracy: 0.8256 - val_loss: 0.3693 - val_accuracy: 0.8608\n",
            "Epoch 16/20\n",
            "176/176 [==============================] - 51s 291ms/step - loss: 0.4790 - accuracy: 0.8262 - val_loss: 0.3726 - val_accuracy: 0.8596\n",
            "Epoch 17/20\n",
            "176/176 [==============================] - 49s 280ms/step - loss: 0.4711 - accuracy: 0.8296 - val_loss: 0.3675 - val_accuracy: 0.8642\n",
            "Epoch 18/20\n",
            "176/176 [==============================] - 49s 279ms/step - loss: 0.4718 - accuracy: 0.8300 - val_loss: 0.3732 - val_accuracy: 0.8609\n",
            "Epoch 19/20\n",
            "176/176 [==============================] - 49s 281ms/step - loss: 0.4708 - accuracy: 0.8303 - val_loss: 0.3848 - val_accuracy: 0.8579\n",
            "Epoch 20/20\n",
            "176/176 [==============================] - 50s 283ms/step - loss: 0.4784 - accuracy: 0.8279 - val_loss: 0.3764 - val_accuracy: 0.8595\n"
          ]
        }
      ]
    },
    {
      "cell_type": "code",
      "source": [
        "test_loss,test_acc = model.evaluate(x_test,y_test)\n",
        "test_loss,test_acc\n"
      ],
      "metadata": {
        "colab": {
          "base_uri": "https://localhost:8080/"
        },
        "id": "U0i-WR6oHDUN",
        "outputId": "9c12df59-9fb6-47df-98a5-95ffdc6b55bd"
      },
      "execution_count": 37,
      "outputs": [
        {
          "output_type": "stream",
          "name": "stdout",
          "text": [
            "313/313 [==============================] - 4s 11ms/step - loss: 0.4010 - accuracy: 0.8469\n"
          ]
        },
        {
          "output_type": "execute_result",
          "data": {
            "text/plain": [
              "(0.40099382400512695, 0.8468999862670898)"
            ]
          },
          "metadata": {},
          "execution_count": 37
        }
      ]
    },
    {
      "cell_type": "code",
      "source": [
        "import matplotlib.pyplot as plt\n",
        "\n",
        "\n",
        "hist=history.history\n",
        "loss_values = hist['loss']\n",
        "val_loss_values = hist['val_loss']\n",
        "\n",
        "epochs = range(1,len(loss_values)+1)\n",
        "\n",
        "plt.plot(epochs,loss_values,'bo',label = 'egitim kaybı')\n",
        "plt.plot(epochs,val_loss_values,'b',label = 'dogruluk kaybı')\n",
        "plt.title('egitim ve dogruluk kaybı')\n",
        "plt.xlabel('Epoklar')\n",
        "plt.ylabel('Kayıp')\n",
        "plt.legend()\n",
        "plt.show()"
      ],
      "metadata": {
        "colab": {
          "base_uri": "https://localhost:8080/",
          "height": 295
        },
        "id": "cMhS5BYQ9iDz",
        "outputId": "a2399fd7-1250-4d9e-fb14-2f0cbf0b0482"
      },
      "execution_count": 38,
      "outputs": [
        {
          "output_type": "display_data",
          "data": {
            "text/plain": [
              "<Figure size 432x288 with 1 Axes>"
            ],
            "image/png": "[encoded data removed]"
          },
          "metadata": {
            "needs_background": "light"
          }
        }
      ]
    },
    {
      "cell_type": "code",
      "source": [
        "history.history"
      ],
      "metadata": {
        "colab": {
          "base_uri": "https://localhost:8080/"
        },
        "id": "0zlVJotO-D9D",
        "outputId": "95bb5e58-34e8-4beb-ae53-9316f5df2663"
      },
      "execution_count": null,
      "outputs": [
        {
          "output_type": "execute_result",
          "data": {
            "text/plain": [
              "{'loss': [0.7452406287193298,\n",
              "  0.44860565662384033,\n",
              "  0.378048300743103,\n",
              "  0.3365492820739746,\n",
              "  0.31157878041267395],\n",
              " 'acc': [0.7299333214759827,\n",
              "  0.8373777866363525,\n",
              "  0.8644000291824341,\n",
              "  0.8778666853904724,\n",
              "  0.8857777714729309],\n",
              " 'val_loss': [0.459101140499115,\n",
              "  0.4078230857849121,\n",
              "  0.34971123933792114,\n",
              "  0.3214976489543915,\n",
              "  0.28261715173721313],\n",
              " 'val_acc': [0.834933340549469,\n",
              "  0.8508666753768921,\n",
              "  0.8705333471298218,\n",
              "  0.8826666474342346,\n",
              "  0.8948666453361511]}"
            ]
          },
          "metadata": {},
          "execution_count": 39
        }
      ]
    },
    {
      "cell_type": "code",
      "source": [],
      "metadata": {
        "id": "zsFMUTvX-J66"
      },
      "execution_count": null,
      "outputs": []
    }
  ]
}