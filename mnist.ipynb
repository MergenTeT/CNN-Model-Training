{
  "nbformat": 4,
  "nbformat_minor": 0,
  "metadata": {
    "colab": {
      "provenance": [],
      "authorship_tag": "ABX9TyPiDg8PyRCVHX6ZS1mNzHQw",
      "include_colab_link": true
    },
    "kernelspec": {
      "name": "python3",
      "display_name": "Python 3"
    },
    "language_info": {
      "name": "python"
    },
    "accelerator": "GPU",
    "gpuClass": "standard"
  },
  "cells": [
    {
      "cell_type": "markdown",
      "metadata": {
        "id": "view-in-github",
        "colab_type": "text"
      },
      "source": [
        "<a href=\"https://colab.research.google.com/github/MergenTeT/CNN-Model-Training/blob/main/mnist.ipynb\" target=\"_parent\"><img src=\"https://colab.research.google.com/assets/colab-badge.svg\" alt=\"Open In Colab\"/></a>"
      ]
    },
    {
      "cell_type": "code",
      "execution_count": null,
      "metadata": {
        "id": "jRiXUYLbEmJ9"
      },
      "outputs": [],
      "source": [
        "from keras.datasets import mnist"
      ]
    },
    {
      "cell_type": "code",
      "source": [
        "(x_train,y_train),(x_test,y_test) = mnist.load_data()"
      ],
      "metadata": {
        "id": "AFS2_2iEP5j0"
      },
      "execution_count": null,
      "outputs": []
    },
    {
      "cell_type": "code",
      "source": [
        "x_train.shape"
      ],
      "metadata": {
        "colab": {
          "base_uri": "https://localhost:8080/"
        },
        "id": "zTlVw9lLvuRy",
        "outputId": "ec9d9813-6dfc-4aa0-e980-8f932732af06"
      },
      "execution_count": null,
      "outputs": [
        {
          "output_type": "execute_result",
          "data": {
            "text/plain": [
              "(60000, 28, 28)"
            ]
          },
          "metadata": {},
          "execution_count": 21
        }
      ]
    },
    {
      "cell_type": "code",
      "source": [
        "from keras.utils.np_utils import to_categorical\n",
        "x_train = x_train.reshape([-1,28,28,1])\n",
        "x_train = x_train.astype('float32')/255\n",
        "\n",
        "x_test = x_test.reshape((-1,28,28,1))\n",
        "x_test = x_test.astype('float32')/255\n",
        "\n",
        "y_train =to_categorical(y_train)\n",
        "y_test =to_categorical(y_test) "
      ],
      "metadata": {
        "id": "QXVdycZ-Rwsj"
      },
      "execution_count": null,
      "outputs": []
    },
    {
      "cell_type": "code",
      "source": [
        "x_train.shape,y_train.shape,x_test.shape,y_test.shape"
      ],
      "metadata": {
        "id": "TzK67JsnSgcL",
        "colab": {
          "base_uri": "https://localhost:8080/"
        },
        "outputId": "36830415-26ac-423c-dfd7-fe7a35046d84"
      },
      "execution_count": null,
      "outputs": [
        {
          "output_type": "execute_result",
          "data": {
            "text/plain": [
              "((60000, 28, 28, 1), (60000, 10), (10000, 28, 28, 1), (10000, 10))"
            ]
          },
          "metadata": {},
          "execution_count": 23
        }
      ]
    },
    {
      "cell_type": "code",
      "source": [
        "from keras import layers,models\n",
        "model =models.Sequential()\n",
        "\n",
        "model.add(layers.Conv2D(32,(3,3),activation ='relu',input_shape = (28,28,1)))\n",
        "model.add(layers.MaxPooling2D((2,2)))\n",
        "model.add(layers.Conv2D(32,(3,3),activation ='relu'))\n",
        "model.add(layers.MaxPooling2D((2,2)))\n",
        "model.add(layers.Conv2D(32,(3,3),activation ='relu'))\n",
        "model.add(layers.Dropout(0.25))\n",
        "model.add(layers.Flatten())\n",
        "\n",
        "model.add(layers.Dense(64,activation=\"relu\"))\n",
        "model.add(layers.Dropout(0.5))\n",
        "model.add(layers.Dense(10,activation=\"softmax\"))\n",
        "model.summary()"
      ],
      "metadata": {
        "id": "b09FuODqc-CS",
        "colab": {
          "base_uri": "https://localhost:8080/"
        },
        "outputId": "26667117-a9cd-4911-92ef-5f28dc766a43"
      },
      "execution_count": null,
      "outputs": [
        {
          "output_type": "stream",
          "name": "stdout",
          "text": [
            "Model: \"sequential_3\"\n",
            "_________________________________________________________________\n",
            " Layer (type)                Output Shape              Param #   \n",
            "=================================================================\n",
            " conv2d_9 (Conv2D)           (None, 26, 26, 32)        320       \n",
            "                                                                 \n",
            " max_pooling2d_6 (MaxPooling  (None, 13, 13, 32)       0         \n",
            " 2D)                                                             \n",
            "                                                                 \n",
            " conv2d_10 (Conv2D)          (None, 11, 11, 32)        9248      \n",
            "                                                                 \n",
            " max_pooling2d_7 (MaxPooling  (None, 5, 5, 32)         0         \n",
            " 2D)                                                             \n",
            "                                                                 \n",
            " conv2d_11 (Conv2D)          (None, 3, 3, 32)          9248      \n",
            "                                                                 \n",
            " dropout_4 (Dropout)         (None, 3, 3, 32)          0         \n",
            "                                                                 \n",
            " flatten_3 (Flatten)         (None, 288)               0         \n",
            "                                                                 \n",
            " dense_6 (Dense)             (None, 64)                18496     \n",
            "                                                                 \n",
            " dropout_5 (Dropout)         (None, 64)                0         \n",
            "                                                                 \n",
            " dense_7 (Dense)             (None, 10)                650       \n",
            "                                                                 \n",
            "=================================================================\n",
            "Total params: 37,962\n",
            "Trainable params: 37,962\n",
            "Non-trainable params: 0\n",
            "_________________________________________________________________\n"
          ]
        }
      ]
    },
    {
      "cell_type": "code",
      "source": [
        "model.compile(optimizer = \"rmsprop\",loss = \"categorical_crossentropy\",metrics=[\"accuracy\"])"
      ],
      "metadata": {
        "id": "VRADx8vJdp31"
      },
      "execution_count": null,
      "outputs": []
    },
    {
      "cell_type": "code",
      "source": [
        "history=model.fit(x_train,y_train,epochs=10,batch_size = 64,validation_split = 0.1)"
      ],
      "metadata": {
        "colab": {
          "base_uri": "https://localhost:8080/"
        },
        "id": "yRSVmjy4eMHL",
        "outputId": "ee9e829e-9e58-4a97-9cc4-eef907c5a1df"
      },
      "execution_count": null,
      "outputs": [
        {
          "output_type": "stream",
          "name": "stdout",
          "text": [
            "Epoch 1/10\n",
            "844/844 [==============================] - 7s 8ms/step - loss: 0.0580 - accuracy: 0.9872 - val_loss: 0.0172 - val_accuracy: 0.9975\n",
            "Epoch 2/10\n",
            "844/844 [==============================] - 4s 5ms/step - loss: 0.0559 - accuracy: 0.9874 - val_loss: 0.0239 - val_accuracy: 0.9962\n",
            "Epoch 3/10\n",
            "844/844 [==============================] - 4s 5ms/step - loss: 0.0539 - accuracy: 0.9879 - val_loss: 0.0306 - val_accuracy: 0.9932\n",
            "Epoch 4/10\n",
            "844/844 [==============================] - 5s 6ms/step - loss: 0.0542 - accuracy: 0.9871 - val_loss: 0.0206 - val_accuracy: 0.9947\n",
            "Epoch 5/10\n",
            "844/844 [==============================] - 4s 5ms/step - loss: 0.0591 - accuracy: 0.9865 - val_loss: 0.0328 - val_accuracy: 0.9908\n",
            "Epoch 6/10\n",
            "844/844 [==============================] - 4s 5ms/step - loss: 0.0593 - accuracy: 0.9862 - val_loss: 0.0448 - val_accuracy: 0.9910\n",
            "Epoch 7/10\n",
            "844/844 [==============================] - 5s 6ms/step - loss: 0.0575 - accuracy: 0.9869 - val_loss: 0.0411 - val_accuracy: 0.9910\n",
            "Epoch 8/10\n",
            "844/844 [==============================] - 4s 5ms/step - loss: 0.0608 - accuracy: 0.9868 - val_loss: 0.0389 - val_accuracy: 0.9937\n",
            "Epoch 9/10\n",
            "844/844 [==============================] - 5s 6ms/step - loss: 0.0570 - accuracy: 0.9868 - val_loss: 0.0391 - val_accuracy: 0.9935\n",
            "Epoch 10/10\n",
            "844/844 [==============================] - 4s 5ms/step - loss: 0.0568 - accuracy: 0.9871 - val_loss: 0.0358 - val_accuracy: 0.9940\n"
          ]
        }
      ]
    },
    {
      "cell_type": "code",
      "source": [
        "test_loss,test_acc = model.evaluate(test_data,test_labels)"
      ],
      "metadata": {
        "colab": {
          "base_uri": "https://localhost:8080/"
        },
        "id": "IjHxcVeKEOaG",
        "outputId": "5a6492f5-3b3e-45b7-9f48-07eeefc779c3"
      },
      "execution_count": null,
      "outputs": [
        {
          "output_type": "stream",
          "name": "stdout",
          "text": [
            "313/313 [==============================] - 1s 3ms/step - loss: 0.0459 - accuracy: 0.9889\n"
          ]
        }
      ]
    },
    {
      "cell_type": "code",
      "source": [
        "from tensorflow.keras.models import load_model\n",
        "model.save('model-OCR.h5')"
      ],
      "metadata": {
        "id": "PcwuG8zQmk12"
      },
      "execution_count": null,
      "outputs": []
    },
    {
      "cell_type": "code",
      "source": [
        "import matplotlib.pyplot as plt\n",
        "\n",
        "\n",
        "hist=history.history\n",
        "loss_values = hist['loss']\n",
        "\n",
        "\n",
        "epochs = range(1,len(loss_values)+1)\n",
        "\n",
        "plt.plot(epochs,loss_values,'bo',label = 'egitim kaybı')\n",
        "\n",
        "plt.title('egitim  kaybı')\n",
        "plt.xlabel('Epoklar')\n",
        "plt.ylabel('Kayıp')\n",
        "plt.legend()\n",
        "plt.show()"
      ],
      "metadata": {
        "colab": {
          "base_uri": "https://localhost:8080/",
          "height": 295
        },
        "id": "nYIWiGMcDokS",
        "outputId": "6c61fe75-fc73-416c-a905-089a3a3d484d"
      },
      "execution_count": null,
      "outputs": [
        {
          "output_type": "display_data",
          "data": {
            "text/plain": [
              "<Figure size 432x288 with 1 Axes>"
            ],
            "image/png": "[encoded data removed]"
          },
          "metadata": {
            "needs_background": "light"
          }
        }
      ]
    },
    {
      "cell_type": "code",
      "source": [
        "import matplotlib.pyplot as plt\n",
        "\n",
        "\n",
        "hist=history.history\n",
        "loss_values = hist['loss']\n",
        "val_loss_values = hist['val_loss']\n",
        "\n",
        "epochs = range(1,len(loss_values)+1)\n",
        "\n",
        "plt.plot(epochs,loss_values,'bo',label = 'egitim kaybı')\n",
        "plt.plot(epochs,val_loss_values,'b',label = 'dogruluk kaybı')\n",
        "plt.title('egitim ve dogruluk kaybı')\n",
        "plt.xlabel('Epoklar')\n",
        "plt.ylabel('Kayıp')\n",
        "plt.legend()\n",
        "plt.show()"
      ],
      "metadata": {
        "colab": {
          "base_uri": "https://localhost:8080/",
          "height": 295
        },
        "id": "7imhun0Be4QO",
        "outputId": "ceb6b256-d6e1-4317-8cfe-20354be31cb8"
      },
      "execution_count": null,
      "outputs": [
        {
          "output_type": "display_data",
          "data": {
            "text/plain": [
              "<Figure size 432x288 with 1 Axes>"
            ],
            "image/png": "[encoded data removed]"
          },
          "metadata": {
            "needs_background": "light"
          }
        }
      ]
    },
    {
      "cell_type": "code",
      "source": [
        "plt.clf()\n",
        "acc = hist['accuracy']\n",
        "val_acc = hist['val_accuracy']\n",
        "plt.plot(epochs,acc,'bo',label = 'egitim basarımı')\n",
        "plt.plot(epochs,val_acc,'b',label = 'dogruluk basarımı')\n",
        "plt.title('egitim ve dogruluk basarımı')\n",
        "plt.xlabel('Epoklar')\n",
        "plt.ylabel('Basarım')\n",
        "plt.legend()\n",
        "plt.show()"
      ],
      "metadata": {
        "colab": {
          "base_uri": "https://localhost:8080/",
          "height": 295
        },
        "id": "CppdyLW8gnsR",
        "outputId": "39484d9b-48d7-4060-c7c4-3b98c7c81a75"
      },
      "execution_count": null,
      "outputs": [
        {
          "output_type": "display_data",
          "data": {
            "text/plain": [
              "<Figure size 432x288 with 1 Axes>"
            ],
            "image/png": "[encoded data removed]"
          },
          "metadata": {
            "needs_background": "light"
          }
        }
      ]
    },
    {
      "cell_type": "markdown",
      "source": [
        "5 Epoch dan sonra overfiting e giriyor . "
      ],
      "metadata": {
        "id": "6xtACDivKZee"
      }
    },
    {
      "cell_type": "code",
      "source": [
        "model.predict(x_test)"
      ],
      "metadata": {
        "colab": {
          "base_uri": "https://localhost:8080/"
        },
        "id": "THiQ4de_i7oK",
        "outputId": "1670850b-12db-4fac-ab29-0dc120f6a6ee"
      },
      "execution_count": null,
      "outputs": [
        {
          "output_type": "stream",
          "name": "stdout",
          "text": [
            "782/782 [==============================] - 2s 2ms/step\n"
          ]
        },
        {
          "output_type": "execute_result",
          "data": {
            "text/plain": [
              "array([[0.26890975],\n",
              "       [0.9982631 ],\n",
              "       [0.86506915],\n",
              "       ...,\n",
              "       [0.08152511],\n",
              "       [0.10904174],\n",
              "       [0.3410374 ]], dtype=float32)"
            ]
          },
          "metadata": {},
          "execution_count": 48
        }
      ]
    },
    {
      "cell_type": "code",
      "source": [],
      "metadata": {
        "id": "dW5fPnYgi-s2"
      },
      "execution_count": null,
      "outputs": []
    }
  ]
}