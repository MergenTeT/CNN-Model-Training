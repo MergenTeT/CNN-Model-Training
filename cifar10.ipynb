{
  "nbformat": 4,
  "nbformat_minor": 0,
  "metadata": {
    "colab": {
      "provenance": [],
      "authorship_tag": "ABX9TyPBKrcK1bWfS2UFFggg+MLa"
    },
    "kernelspec": {
      "name": "python3",
      "display_name": "Python 3"
    },
    "language_info": {
      "name": "python"
    },
    "accelerator": "GPU",
    "gpuClass": "standard"
  },
  "cells": [
    {
      "cell_type": "code",
      "execution_count": null,
      "metadata": {
        "id": "yQ8oOhqMo3PU"
      },
      "outputs": [],
      "source": [
        "import tensorflow as tf\n",
        "from tensorflow.keras import datasets,layers,models\n",
        "\n",
        "import numpy as np\n",
        "import matplotlib.pyplot as plt\n",
        "import pandas as pd\n",
        "from keras.utils.np_utils import to_categorical"
      ]
    },
    {
      "cell_type": "code",
      "source": [
        "(x_train,y_train),(x_test,y_test) = datasets.cifar10.load_data()"
      ],
      "metadata": {
        "id": "-LWrUFw-pUwX"
      },
      "execution_count": null,
      "outputs": []
    },
    {
      "cell_type": "code",
      "source": [
        "y_test=to_categorical(y_test)\n",
        "y_train=to_categorical(y_train)"
      ],
      "metadata": {
        "id": "RCoNnY5ypgs-"
      },
      "execution_count": null,
      "outputs": []
    },
    {
      "cell_type": "code",
      "source": [
        "x_train = x_train.astype('float32')/255\n",
        "x_test = x_test.astype('float32')/255"
      ],
      "metadata": {
        "id": "45r2AOFwpnPm"
      },
      "execution_count": null,
      "outputs": []
    },
    {
      "cell_type": "code",
      "source": [
        "\n",
        "model = models.Sequential()\n",
        "model.add(layers.Conv2D(32, (3, 3), activation='relu', kernel_initializer='he_uniform', padding='same', input_shape=(32, 32, 3)))\n",
        "model.add(layers.Conv2D(32, (3, 3), activation='relu', kernel_initializer='he_uniform', padding='same'))\n",
        "model.add(layers.MaxPooling2D((2, 2)))\n",
        "model.add(layers.Conv2D(64, (3, 3), activation='relu', kernel_initializer='he_uniform', padding='same'))\n",
        "model.add(layers.Conv2D(64, (3, 3), activation='relu', kernel_initializer='he_uniform', padding='same'))\n",
        "model.add(layers.MaxPooling2D((2, 2)))\n",
        "model.add(layers.Conv2D(128, (3, 3), activation='relu', kernel_initializer='he_uniform', padding='same'))\n",
        "model.add(layers.Conv2D(128, (3, 3), activation='relu', kernel_initializer='he_uniform', padding='same'))\n",
        "model.add(layers.MaxPooling2D((2, 2)))\n",
        "# example output part of the model\n",
        "model.add(layers.Flatten())\n",
        "model.add(layers.Dense(128, activation='relu', kernel_initializer='he_uniform'))\n",
        "model.add(layers.Dense(10, activation='softmax'))"
      ],
      "metadata": {
        "id": "QUljHG5J7Vmx"
      },
      "execution_count": null,
      "outputs": []
    },
    {
      "cell_type": "code",
      "source": [
        "model = models.Sequential()\n",
        "model.add(layers.Conv2D(32,input_shape = (32,32,3),kernel_size = 'he_uniform',activation = 'relu'))\n",
        "model.add(layers.Conv2D(32,kernel_size = 'he_uniform',activation = 'relu'))\n",
        "model.add(layers.MaxPool2D((2,2)))\n",
        "model.add(layers.Conv2D(64,kernel_size = 'he_uniform',activation = 'relu'))\n",
        "model.add(layers.Conv2D(64,kernel_size = 'he_uniform',activation = 'relu'))\n",
        "model.add(layers.MaxPool2D((2,2)))\n",
        "model.add(layers.Conv2D(128,kernel_size = 'he_uniform',activation = 'relu'))\n",
        "model.add(layers.Conv2D(128,kernel_size = 'he_uniform',activation = 'relu'))\n",
        "model.add(layers.MaxPool2D((2,2)))\n",
        "model.add(layers.Flatten())\n",
        "model.add(layers.Dense(128,activation='relu'),kernal_initializer = 'he_uniform')\n",
        "\n",
        "model.add(layers.Dense(10,activation='softmax'))\n"
      ],
      "metadata": {
        "id": "WbDJrl5bxen2"
      },
      "execution_count": null,
      "outputs": []
    },
    {
      "cell_type": "code",
      "source": [
        "model.compile(loss = 'categorical_crossentropy',optimizer = 'rmsprop',metrics =['accuracy'])"
      ],
      "metadata": {
        "id": "Z8E3aPSNxeqo"
      },
      "execution_count": null,
      "outputs": []
    },
    {
      "cell_type": "code",
      "source": [
        "model.fit(x_train,y_train,epochs = 5,batch_size=512)"
      ],
      "metadata": {
        "colab": {
          "base_uri": "https://localhost:8080/"
        },
        "id": "qdIPpqJpxetb",
        "outputId": "ddd4b77d-508d-4335-c72c-686a8c78522b"
      },
      "execution_count": null,
      "outputs": [
        {
          "output_type": "stream",
          "name": "stdout",
          "text": [
            "Epoch 1/5\n",
            "98/98 [==============================] - 7s 52ms/step - loss: 2.0770 - accuracy: 0.2517\n",
            "Epoch 2/5\n",
            "98/98 [==============================] - 4s 45ms/step - loss: 1.6393 - accuracy: 0.4120\n",
            "Epoch 3/5\n",
            "98/98 [==============================] - 4s 45ms/step - loss: 1.3923 - accuracy: 0.5017\n",
            "Epoch 4/5\n",
            "98/98 [==============================] - 4s 45ms/step - loss: 1.1984 - accuracy: 0.5769\n",
            "Epoch 5/5\n",
            "98/98 [==============================] - 4s 45ms/step - loss: 1.0472 - accuracy: 0.6342\n"
          ]
        },
        {
          "output_type": "execute_result",
          "data": {
            "text/plain": [
              "<keras.callbacks.History at 0x7f9cc60c5f90>"
            ]
          },
          "metadata": {},
          "execution_count": 40
        }
      ]
    },
    {
      "cell_type": "code",
      "source": [
        "model.evaluate(x_test,y_test,verbose = 0)"
      ],
      "metadata": {
        "colab": {
          "base_uri": "https://localhost:8080/"
        },
        "id": "W4OKbe9i5-ht",
        "outputId": "7d9fb9ba-2421-4901-9116-d014c1bd4f2b"
      },
      "execution_count": null,
      "outputs": [
        {
          "output_type": "execute_result",
          "data": {
            "text/plain": [
              "[1.0338438749313354, 0.6413000226020813]"
            ]
          },
          "metadata": {},
          "execution_count": 41
        }
      ]
    },
    {
      "cell_type": "code",
      "source": [
        "model.fit(x_train,y_train,epochs = 20,batch_size=512)"
      ],
      "metadata": {
        "colab": {
          "base_uri": "https://localhost:8080/"
        },
        "id": "RW-e7ITzxewN",
        "outputId": "ed90a653-dd33-4ef2-82be-e55118140b0e"
      },
      "execution_count": null,
      "outputs": [
        {
          "output_type": "stream",
          "name": "stdout",
          "text": [
            "Epoch 1/20\n",
            "98/98 [==============================] - 4s 44ms/step - loss: 0.9148 - accuracy: 0.6815\n",
            "Epoch 2/20\n",
            "98/98 [==============================] - 4s 43ms/step - loss: 0.8143 - accuracy: 0.7167\n",
            "Epoch 3/20\n",
            "98/98 [==============================] - 4s 44ms/step - loss: 0.7177 - accuracy: 0.7529\n",
            "Epoch 4/20\n",
            "98/98 [==============================] - 4s 44ms/step - loss: 0.6286 - accuracy: 0.7797\n",
            "Epoch 5/20\n",
            "98/98 [==============================] - 4s 44ms/step - loss: 0.5506 - accuracy: 0.8088\n",
            "Epoch 6/20\n",
            "98/98 [==============================] - 4s 44ms/step - loss: 0.4725 - accuracy: 0.8366\n",
            "Epoch 7/20\n",
            "98/98 [==============================] - 4s 45ms/step - loss: 0.4085 - accuracy: 0.8575\n",
            "Epoch 8/20\n",
            "98/98 [==============================] - 4s 45ms/step - loss: 0.3463 - accuracy: 0.8789\n",
            "Epoch 9/20\n",
            "98/98 [==============================] - 4s 45ms/step - loss: 0.2898 - accuracy: 0.8994\n",
            "Epoch 10/20\n",
            "98/98 [==============================] - 4s 45ms/step - loss: 0.2299 - accuracy: 0.9197\n",
            "Epoch 11/20\n",
            "98/98 [==============================] - 4s 44ms/step - loss: 0.1939 - accuracy: 0.9326\n",
            "Epoch 12/20\n",
            "98/98 [==============================] - 4s 44ms/step - loss: 0.1634 - accuracy: 0.9440\n",
            "Epoch 13/20\n",
            "98/98 [==============================] - 4s 44ms/step - loss: 0.1370 - accuracy: 0.9530\n",
            "Epoch 14/20\n",
            "98/98 [==============================] - 4s 44ms/step - loss: 0.1276 - accuracy: 0.9574\n",
            "Epoch 15/20\n",
            "98/98 [==============================] - 4s 44ms/step - loss: 0.1099 - accuracy: 0.9645\n",
            "Epoch 16/20\n",
            "98/98 [==============================] - 4s 44ms/step - loss: 0.1080 - accuracy: 0.9670\n",
            "Epoch 17/20\n",
            "98/98 [==============================] - 4s 44ms/step - loss: 0.0953 - accuracy: 0.9692\n",
            "Epoch 18/20\n",
            "98/98 [==============================] - 4s 44ms/step - loss: 0.0910 - accuracy: 0.9720\n",
            "Epoch 19/20\n",
            "98/98 [==============================] - 4s 44ms/step - loss: 0.0757 - accuracy: 0.9759\n",
            "Epoch 20/20\n",
            "98/98 [==============================] - 4s 44ms/step - loss: 0.0745 - accuracy: 0.9761\n"
          ]
        },
        {
          "output_type": "execute_result",
          "data": {
            "text/plain": [
              "<keras.callbacks.History at 0x7f9cb048ff10>"
            ]
          },
          "metadata": {},
          "execution_count": 42
        }
      ]
    },
    {
      "cell_type": "code",
      "source": [
        "model.evaluate(x_test,y_test,verbose = 0)"
      ],
      "metadata": {
        "colab": {
          "base_uri": "https://localhost:8080/"
        },
        "id": "nK8BHWn49S5f",
        "outputId": "60f47b8c-a241-47a2-e35e-0f70b882742c"
      },
      "execution_count": null,
      "outputs": [
        {
          "output_type": "execute_result",
          "data": {
            "text/plain": [
              "[1.7023847103118896, 0.7207000255584717]"
            ]
          },
          "metadata": {},
          "execution_count": 45
        }
      ]
    },
    {
      "cell_type": "code",
      "source": [
        "resim_siniflari = [\"airplane\",\"automobile\",\"bird\",\"cat\",\"deer\",\"dog\",\"frog\",\"horse\",\"ship\",\"truck\"]"
      ],
      "metadata": {
        "id": "_6oTqHtyqJLm"
      },
      "execution_count": null,
      "outputs": []
    },
    {
      "cell_type": "code",
      "source": [
        "def plot_sample(x_test,y_test,index):\n",
        "  plt.figure(figsize = (15,2))\n",
        "  plt.imshow(x_test[index])\n",
        "  plt.xlabel(resim_siniflari[y_test[index]])"
      ],
      "metadata": {
        "id": "nOxU6l5Eqb9W"
      },
      "execution_count": null,
      "outputs": []
    },
    {
      "cell_type": "code",
      "source": [
        "plot_sample(x_test,y_test,0)"
      ],
      "metadata": {
        "colab": {
          "base_uri": "https://localhost:8080/",
          "height": 173
        },
        "id": "Fe7HYWrCrkUF",
        "outputId": "16b13fa9-7ed3-4f08-d1a5-92f9ee4b3360"
      },
      "execution_count": null,
      "outputs": [
        {
          "output_type": "display_data",
          "data": {
            "text/plain": [
              "<Figure size 1080x144 with 1 Axes>"
            ],
            "image/png": "[encoded data removed]"
          },
          "metadata": {
            "needs_background": "light"
          }
        }
      ]
    },
    {
      "cell_type": "code",
      "source": [
        "plot_sample(x_test,y_test,10)"
      ],
      "metadata": {
        "colab": {
          "base_uri": "https://localhost:8080/",
          "height": 173
        },
        "id": "wV4eU8jxrwCV",
        "outputId": "9bd6d6b7-b0d4-4c74-e9af-07dc3948e93c"
      },
      "execution_count": null,
      "outputs": [
        {
          "output_type": "display_data",
          "data": {
            "text/plain": [
              "<Figure size 1080x144 with 1 Axes>"
            ],
            "image/png": "[encoded data removed]"
          },
          "metadata": {
            "needs_background": "light"
          }
        }
      ]
    },
    {
      "cell_type": "code",
      "source": [
        "plot_sample(x_test,y_test,1000)"
      ],
      "metadata": {
        "colab": {
          "base_uri": "https://localhost:8080/",
          "height": 173
        },
        "id": "swrFy8UNrzLF",
        "outputId": "504b6ae2-a325-4b31-d0dc-4e3f06886d04"
      },
      "execution_count": null,
      "outputs": [
        {
          "output_type": "display_data",
          "data": {
            "text/plain": [
              "<Figure size 1080x144 with 1 Axes>"
            ],
            "image/png": "[encoded data removed]"
          },
          "metadata": {
            "needs_background": "light"
          }
        }
      ]
    },
    {
      "cell_type": "code",
      "source": [
        "plot_sample(x_test,y_test,1000)"
      ],
      "metadata": {
        "colab": {
          "base_uri": "https://localhost:8080/",
          "height": 173
        },
        "id": "MBvmogWBr1QV",
        "outputId": "5ad75bb9-2d85-4c09-c1a6-6dbb2c4d26da"
      },
      "execution_count": null,
      "outputs": [
        {
          "output_type": "display_data",
          "data": {
            "text/plain": [
              "<Figure size 1080x144 with 1 Axes>"
            ],
            "image/png": "[encoded data removed]"
          },
          "metadata": {
            "needs_background": "light"
          }
        }
      ]
    }
  ]
}